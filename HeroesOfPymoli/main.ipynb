{
 "cells": [
  {
   "cell_type": "code",
   "execution_count": null,
   "metadata": {},
   "outputs": [],
   "source": [
    "# Importing Dependencies\n",
    "import pandas as pd\n",
    "\n",
    "# Data File being loaded\n",
    "purchase_file = \"../Resources/purchase_data.csv\"\n",
    "\n",
    "purchase_df = pd.read_csv(purchase_file)"
   ]
  },
  {
   "cell_type": "code",
   "execution_count": null,
   "metadata": {},
   "outputs": [],
   "source": [
    "# Calculate total number of players\n",
    "player_count = len(purchase_df[\"SN\"].unique())\n",
    "\n",
    "# Creating DataFrame to display Player Count\n",
    "player_num_df = pd.DataFrame({\n",
    "    \"Total Players\": [f'{player_count}']\n",
    "})\n",
    "player_num_df"
   ]
  },
  {
   "cell_type": "code",
   "execution_count": null,
   "metadata": {},
   "outputs": [],
   "source": [
    "# Calculating the number of unique items, the average price of an item, \n",
    "# the total number of purchases from players and the total revenue\n",
    "\n",
    "num_unique_items = len(purchase_df[\"Item Name\"].unique())\n",
    "avg_price = round(purchase_df[\"Price\"].mean(), 2)\n",
    "num_purchases = purchase_df[\"Purchase ID\"].count()\n",
    "total_revenue = purchase_df[\"Price\"].sum()\n",
    "\n",
    "# Creating DataFrame to display Purchasing Analysis of the Totals\n",
    "purchase_analysis_totals_df = pd.DataFrame({\n",
    "    \"Number of Unique Items\": [f'{num_unique_items}'], \n",
    "    \"Average Price\": [f'${avg_price}'], \n",
    "    \"Number of Purchases\": [f'{num_purchases}'], \n",
    "    \"Total Revenue\": [f'${total_revenue:,}']\n",
    "})\n",
    "\n",
    "purchase_analysis_totals_df"
   ]
  },
  {
   "cell_type": "code",
   "execution_count": null,
   "metadata": {},
   "outputs": [],
   "source": [
    "# Calculates count of each gender by only keeping one purchase from every unique player and creates a dataframe\n",
    "gender_df = purchase_df.drop_duplicates(subset = 'SN', keep = \"first\")\n",
    "gender_demo_df = pd.DataFrame(gender_df[\"Gender\"].value_counts())\n",
    "\n",
    "# Changes column title to Total Count\n",
    "gender_demo_df = gender_demo_df.rename(columns={\"Gender\":\"Total Count\"})\n",
    "\n",
    "# Calculates percentage of each gender group and adds a percentage column to dataframe\n",
    "gender_rawper = gender_demo_df[\"Total Count\"]/(player_count)\n",
    "gender_percent = (round(gender_rawper * 100, 2))\n",
    "gender_demo_df[\"Percentage of Players\"] = gender_percent.astype(str) + '%'\n",
    "\n",
    "\n",
    "gender_demo_df"
   ]
  },
  {
   "cell_type": "code",
   "execution_count": null,
   "metadata": {},
   "outputs": [],
   "source": []
  }
 ],
 "metadata": {
  "kernelspec": {
   "display_name": "Python [conda env:PythonData]",
   "language": "python",
   "name": "conda-env-PythonData-py"
  },
  "language_info": {
   "codemirror_mode": {
    "name": "ipython",
    "version": 3
   },
   "file_extension": ".py",
   "mimetype": "text/x-python",
   "name": "python",
   "nbconvert_exporter": "python",
   "pygments_lexer": "ipython3",
   "version": "3.6.10"
  }
 },
 "nbformat": 4,
 "nbformat_minor": 2
}
