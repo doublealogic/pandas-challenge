{
 "cells": [
  {
   "cell_type": "code",
   "execution_count": 1,
   "metadata": {},
   "outputs": [],
   "source": [
    "# Importing Dependencies\n",
    "import pandas as pd\n",
    "import locale\n",
    "\n",
    "# Data File being loaded\n",
    "purchase_file = \"../Resources/purchase_data.csv\"\n",
    "\n",
    "purchase_df = pd.read_csv(purchase_file)"
   ]
  },
  {
   "cell_type": "code",
   "execution_count": 2,
   "metadata": {},
   "outputs": [
    {
     "output_type": "execute_result",
     "data": {
      "text/plain": [
       "  Total Players\n",
       "0           576"
      ],
      "text/html": "<div>\n<style scoped>\n    .dataframe tbody tr th:only-of-type {\n        vertical-align: middle;\n    }\n\n    .dataframe tbody tr th {\n        vertical-align: top;\n    }\n\n    .dataframe thead th {\n        text-align: right;\n    }\n</style>\n<table border=\"1\" class=\"dataframe\">\n  <thead>\n    <tr style=\"text-align: right;\">\n      <th></th>\n      <th>Total Players</th>\n    </tr>\n  </thead>\n  <tbody>\n    <tr>\n      <th>0</th>\n      <td>576</td>\n    </tr>\n  </tbody>\n</table>\n</div>"
     },
     "metadata": {},
     "execution_count": 2
    }
   ],
   "source": [
    "# Calculate total number of players\n",
    "player_count = len(purchase_df[\"SN\"].unique())\n",
    "\n",
    "# Creating DataFrame to display Player Count\n",
    "player_num_df = pd.DataFrame({\n",
    "    \"Total Players\": [f'{player_count}']\n",
    "})\n",
    "player_num_df"
   ]
  },
  {
   "cell_type": "code",
   "execution_count": 3,
   "metadata": {},
   "outputs": [
    {
     "output_type": "execute_result",
     "data": {
      "text/plain": [
       "  Number of Unique Items Average Price Number of Purchases Total Revenue\n",
       "0                    179         $3.05                 780     $2,379.77"
      ],
      "text/html": "<div>\n<style scoped>\n    .dataframe tbody tr th:only-of-type {\n        vertical-align: middle;\n    }\n\n    .dataframe tbody tr th {\n        vertical-align: top;\n    }\n\n    .dataframe thead th {\n        text-align: right;\n    }\n</style>\n<table border=\"1\" class=\"dataframe\">\n  <thead>\n    <tr style=\"text-align: right;\">\n      <th></th>\n      <th>Number of Unique Items</th>\n      <th>Average Price</th>\n      <th>Number of Purchases</th>\n      <th>Total Revenue</th>\n    </tr>\n  </thead>\n  <tbody>\n    <tr>\n      <th>0</th>\n      <td>179</td>\n      <td>$3.05</td>\n      <td>780</td>\n      <td>$2,379.77</td>\n    </tr>\n  </tbody>\n</table>\n</div>"
     },
     "metadata": {},
     "execution_count": 3
    }
   ],
   "source": [
    "# Calculating the number of unique items, the average price of an item, \n",
    "# the total number of purchases from players and the total revenue\n",
    "\n",
    "num_unique_items = len(purchase_df[\"Item Name\"].unique())\n",
    "avg_price = round(purchase_df[\"Price\"].mean(), 2)\n",
    "num_purchases = purchase_df[\"Purchase ID\"].count()\n",
    "total_revenue = purchase_df[\"Price\"].sum()\n",
    "\n",
    "# Creating DataFrame to display Purchasing Analysis of the Totals\n",
    "purchase_analysis_totals_df = pd.DataFrame({\n",
    "    \"Number of Unique Items\": [f'{num_unique_items}'], \n",
    "    \"Average Price\": [f'${avg_price}'], \n",
    "    \"Number of Purchases\": [f'{num_purchases}'], \n",
    "    \"Total Revenue\": [f'${total_revenue:,}']\n",
    "})\n",
    "\n",
    "purchase_analysis_totals_df"
   ]
  },
  {
   "cell_type": "code",
   "execution_count": 4,
   "metadata": {},
   "outputs": [
    {
     "output_type": "execute_result",
     "data": {
      "text/plain": [
       "                       Total Count Percentage of Players\n",
       "Male                           484                84.03%\n",
       "Female                          81                14.06%\n",
       "Other / Non-Disclosed           11                 1.91%"
      ],
      "text/html": "<div>\n<style scoped>\n    .dataframe tbody tr th:only-of-type {\n        vertical-align: middle;\n    }\n\n    .dataframe tbody tr th {\n        vertical-align: top;\n    }\n\n    .dataframe thead th {\n        text-align: right;\n    }\n</style>\n<table border=\"1\" class=\"dataframe\">\n  <thead>\n    <tr style=\"text-align: right;\">\n      <th></th>\n      <th>Total Count</th>\n      <th>Percentage of Players</th>\n    </tr>\n  </thead>\n  <tbody>\n    <tr>\n      <th>Male</th>\n      <td>484</td>\n      <td>84.03%</td>\n    </tr>\n    <tr>\n      <th>Female</th>\n      <td>81</td>\n      <td>14.06%</td>\n    </tr>\n    <tr>\n      <th>Other / Non-Disclosed</th>\n      <td>11</td>\n      <td>1.91%</td>\n    </tr>\n  </tbody>\n</table>\n</div>"
     },
     "metadata": {},
     "execution_count": 4
    }
   ],
   "source": [
    "# Calculates count of each gender by only keeping one purchase from every unique player and creates a dataframe\n",
    "unique_df = purchase_df.drop_duplicates(subset = 'SN', keep = \"first\")\n",
    "gender_demo_df = pd.DataFrame(unique_df[\"Gender\"].value_counts())\n",
    "\n",
    "# Changes column title to Total Count\n",
    "gender_demo_df = gender_demo_df.rename(columns={\"Gender\":\"Total Count\"})\n",
    "\n",
    "# Calculates percentage of each gender group and adds a percentage column to dataframe\n",
    "gender_rawper = gender_demo_df[\"Total Count\"]/(player_count)\n",
    "gender_percent = (round(gender_rawper * 100, 2))\n",
    "gender_demo_df[\"Percentage of Players\"] = gender_percent.astype(str) + '%'\n",
    "\n",
    "\n",
    "gender_demo_df"
   ]
  },
  {
   "cell_type": "code",
   "execution_count": 5,
   "metadata": {},
   "outputs": [
    {
     "output_type": "execute_result",
     "data": {
      "text/plain": [
       "                       Purchase Count Average Purchase Price  \\\n",
       "Gender                                                         \n",
       "Female                            113                   $3.2   \n",
       "Male                              652                  $3.02   \n",
       "Other / Non-Disclosed              15                  $3.35   \n",
       "\n",
       "                      Total Purchase Value Avg Total Purchase per Person  \n",
       "Gender                                                                    \n",
       "Female                             $361.94                         $4.47  \n",
       "Male                              $1967.64                         $4.07  \n",
       "Other / Non-Disclosed               $50.19                         $4.56  "
      ],
      "text/html": "<div>\n<style scoped>\n    .dataframe tbody tr th:only-of-type {\n        vertical-align: middle;\n    }\n\n    .dataframe tbody tr th {\n        vertical-align: top;\n    }\n\n    .dataframe thead th {\n        text-align: right;\n    }\n</style>\n<table border=\"1\" class=\"dataframe\">\n  <thead>\n    <tr style=\"text-align: right;\">\n      <th></th>\n      <th>Purchase Count</th>\n      <th>Average Purchase Price</th>\n      <th>Total Purchase Value</th>\n      <th>Avg Total Purchase per Person</th>\n    </tr>\n    <tr>\n      <th>Gender</th>\n      <th></th>\n      <th></th>\n      <th></th>\n      <th></th>\n    </tr>\n  </thead>\n  <tbody>\n    <tr>\n      <th>Female</th>\n      <td>113</td>\n      <td>$3.2</td>\n      <td>$361.94</td>\n      <td>$4.47</td>\n    </tr>\n    <tr>\n      <th>Male</th>\n      <td>652</td>\n      <td>$3.02</td>\n      <td>$1967.64</td>\n      <td>$4.07</td>\n    </tr>\n    <tr>\n      <th>Other / Non-Disclosed</th>\n      <td>15</td>\n      <td>$3.35</td>\n      <td>$50.19</td>\n      <td>$4.56</td>\n    </tr>\n  </tbody>\n</table>\n</div>"
     },
     "metadata": {},
     "execution_count": 5
    }
   ],
   "source": [
    "# Creates dataframe sorted by Gender\n",
    "gender_purchase_df = purchase_df.groupby([\"Gender\"])\n",
    "\n",
    "# Renames first column to Purchase Count and calculates total purchases by gender\n",
    "gen_pur_analysis_df = pd.DataFrame(gender_purchase_df[\"Purchase ID\"].count())\n",
    "gen_pur_analysis_df = gen_pur_analysis_df.rename(columns={\"Purchase ID\":\"Purchase Count\"})\n",
    "\n",
    "# Calculates average price and total purchase value by gender\n",
    "avg_price_by_gen = gender_purchase_df[\"Price\"].mean()\n",
    "gen_pur_analysis_df[\"Average Purchase Price\"] = round(avg_price_by_gen, 2)\n",
    "    \n",
    "gen_pur_analysis_df[\"Total Purchase Value\"] = gender_purchase_df[\"Price\"].sum()\n",
    "\n",
    "gen_pur_analysis_df[\"Avg Total Purchase per Person\"] = round((gen_pur_analysis_df[\"Total Purchase Value\"])/(gender_demo_df[\"Total Count\"]), 2)\n",
    "\n",
    "for currency_column in [\"Average Purchase Price\", \"Total Purchase Value\", \"Avg Total Purchase per Person\"]:\n",
    "    gen_pur_analysis_df[currency_column] = '$' + gen_pur_analysis_df[currency_column].round(2).astype(str)\n",
    "\n",
    "gen_pur_analysis_df"
   ]
  },
  {
   "cell_type": "code",
   "execution_count": 6,
   "metadata": {},
   "outputs": [
    {
     "output_type": "execute_result",
     "data": {
      "text/plain": [
       "                 Total Count Percentage of Players\n",
       "Age Demographic                                   \n",
       "<10                       17                 2.95%\n",
       "10-14                     22                 3.82%\n",
       "15-19                    107                18.58%\n",
       "20-24                    258                44.79%\n",
       "25-29                     77                13.37%\n",
       "30-34                     52                 9.03%\n",
       "35-39                     31                 5.38%\n",
       "40+                       12                 2.08%"
      ],
      "text/html": "<div>\n<style scoped>\n    .dataframe tbody tr th:only-of-type {\n        vertical-align: middle;\n    }\n\n    .dataframe tbody tr th {\n        vertical-align: top;\n    }\n\n    .dataframe thead th {\n        text-align: right;\n    }\n</style>\n<table border=\"1\" class=\"dataframe\">\n  <thead>\n    <tr style=\"text-align: right;\">\n      <th></th>\n      <th>Total Count</th>\n      <th>Percentage of Players</th>\n    </tr>\n    <tr>\n      <th>Age Demographic</th>\n      <th></th>\n      <th></th>\n    </tr>\n  </thead>\n  <tbody>\n    <tr>\n      <th>&lt;10</th>\n      <td>17</td>\n      <td>2.95%</td>\n    </tr>\n    <tr>\n      <th>10-14</th>\n      <td>22</td>\n      <td>3.82%</td>\n    </tr>\n    <tr>\n      <th>15-19</th>\n      <td>107</td>\n      <td>18.58%</td>\n    </tr>\n    <tr>\n      <th>20-24</th>\n      <td>258</td>\n      <td>44.79%</td>\n    </tr>\n    <tr>\n      <th>25-29</th>\n      <td>77</td>\n      <td>13.37%</td>\n    </tr>\n    <tr>\n      <th>30-34</th>\n      <td>52</td>\n      <td>9.03%</td>\n    </tr>\n    <tr>\n      <th>35-39</th>\n      <td>31</td>\n      <td>5.38%</td>\n    </tr>\n    <tr>\n      <th>40+</th>\n      <td>12</td>\n      <td>2.08%</td>\n    </tr>\n  </tbody>\n</table>\n</div>"
     },
     "metadata": {},
     "execution_count": 6
    }
   ],
   "source": [
    "# Creates bins that will be used to sort the data by certain age demographics\n",
    "bins = [0, 9, 14, 19, 24, 29, 34, 39, float(\"inf\")]\n",
    "group_labels = [\"<10\", \"10-14\", \"15-19\", \"20-24\", \"25-29\", \"30-34\", \"35-39\", \"40+\"]\n",
    "\n",
    "purchase_df[\"Age Demographic\"] = pd.cut(unique_df[\"Age\"], bins, labels=group_labels)\n",
    "\n",
    "# Divides the data by the newly created bins above\n",
    "age_group = purchase_df.groupby(\"Age Demographic\")\n",
    "\n",
    "# Creates and calculates the total count of players in each age range and their percentage out of the group overall\n",
    "age_demo_df = pd.DataFrame(age_group[\"Age\"].count())\n",
    "age_demo_df = age_demo_df.rename(columns={\"Age\":\"Total Count\"})\n",
    "\n",
    "age_percent = (age_demo_df[\"Total Count\"])/(player_count)\n",
    "age_percent = (round(age_percent * 100, 2))\n",
    "age_demo_df[\"Percentage of Players\"] = age_percent.astype(str) + '%'\n",
    "\n",
    "age_demo_df"
   ]
  },
  {
   "cell_type": "code",
   "execution_count": 7,
   "metadata": {},
   "outputs": [
    {
     "output_type": "execute_result",
     "data": {
      "text/plain": [
       "                      Purchase Count Average Purchase Price  \\\n",
       "Full Age Demographic                                          \n",
       "<10                               23                  $3.35   \n",
       "10-14                             28                  $2.96   \n",
       "15-19                            136                  $3.04   \n",
       "20-24                            365                  $3.05   \n",
       "25-29                            101                   $2.9   \n",
       "30-34                             73                  $2.93   \n",
       "35-39                             41                   $3.6   \n",
       "40+                               13                  $2.94   \n",
       "\n",
       "                     Total Purchase Value Avg Total Purchase per Person  \n",
       "Full Age Demographic                                                     \n",
       "<10                                $77.13                         $4.54  \n",
       "10-14                              $82.78                         $3.76  \n",
       "15-19                             $412.89                         $3.86  \n",
       "20-24                            $1114.06                         $4.32  \n",
       "25-29                              $293.0                         $3.81  \n",
       "30-34                              $214.0                         $4.12  \n",
       "35-39                             $147.67                         $4.76  \n",
       "40+                                $38.24                         $3.19  "
      ],
      "text/html": "<div>\n<style scoped>\n    .dataframe tbody tr th:only-of-type {\n        vertical-align: middle;\n    }\n\n    .dataframe tbody tr th {\n        vertical-align: top;\n    }\n\n    .dataframe thead th {\n        text-align: right;\n    }\n</style>\n<table border=\"1\" class=\"dataframe\">\n  <thead>\n    <tr style=\"text-align: right;\">\n      <th></th>\n      <th>Purchase Count</th>\n      <th>Average Purchase Price</th>\n      <th>Total Purchase Value</th>\n      <th>Avg Total Purchase per Person</th>\n    </tr>\n    <tr>\n      <th>Full Age Demographic</th>\n      <th></th>\n      <th></th>\n      <th></th>\n      <th></th>\n    </tr>\n  </thead>\n  <tbody>\n    <tr>\n      <th>&lt;10</th>\n      <td>23</td>\n      <td>$3.35</td>\n      <td>$77.13</td>\n      <td>$4.54</td>\n    </tr>\n    <tr>\n      <th>10-14</th>\n      <td>28</td>\n      <td>$2.96</td>\n      <td>$82.78</td>\n      <td>$3.76</td>\n    </tr>\n    <tr>\n      <th>15-19</th>\n      <td>136</td>\n      <td>$3.04</td>\n      <td>$412.89</td>\n      <td>$3.86</td>\n    </tr>\n    <tr>\n      <th>20-24</th>\n      <td>365</td>\n      <td>$3.05</td>\n      <td>$1114.06</td>\n      <td>$4.32</td>\n    </tr>\n    <tr>\n      <th>25-29</th>\n      <td>101</td>\n      <td>$2.9</td>\n      <td>$293.0</td>\n      <td>$3.81</td>\n    </tr>\n    <tr>\n      <th>30-34</th>\n      <td>73</td>\n      <td>$2.93</td>\n      <td>$214.0</td>\n      <td>$4.12</td>\n    </tr>\n    <tr>\n      <th>35-39</th>\n      <td>41</td>\n      <td>$3.6</td>\n      <td>$147.67</td>\n      <td>$4.76</td>\n    </tr>\n    <tr>\n      <th>40+</th>\n      <td>13</td>\n      <td>$2.94</td>\n      <td>$38.24</td>\n      <td>$3.19</td>\n    </tr>\n  </tbody>\n</table>\n</div>"
     },
     "metadata": {},
     "execution_count": 7
    }
   ],
   "source": [
    "purchase_df[\"Full Age Demographic\"] = pd.cut(purchase_df[\"Age\"], bins, labels=group_labels)\n",
    "age_purchase_df = purchase_df.groupby([\"Full Age Demographic\"])\n",
    "\n",
    "age_pur_analysis_df = pd.DataFrame(age_purchase_df[\"Age\"].count())\n",
    "age_pur_analysis_df = age_pur_analysis_df.rename(columns={\"Age\":\"Purchase Count\"})\n",
    "\n",
    "avg_price_by_age = age_purchase_df[\"Price\"].mean()\n",
    "age_pur_analysis_df[\"Average Purchase Price\"] = round(avg_price_by_age, 2)\n",
    "    \n",
    "age_pur_analysis_df[\"Total Purchase Value\"] = age_purchase_df[\"Price\"].sum()\n",
    "\n",
    "age_pur_analysis_df[\"Avg Total Purchase per Person\"] = round((age_pur_analysis_df[\"Total Purchase Value\"])/(age_demo_df[\"Total Count\"]), 2)\n",
    "\n",
    "for currency_column in [\"Average Purchase Price\", \"Total Purchase Value\", \"Avg Total Purchase per Person\"]:\n",
    "    age_pur_analysis_df[currency_column] = '$' + age_pur_analysis_df[currency_column].round(2).astype(str)\n",
    "\n",
    "age_pur_analysis_df"
   ]
  },
  {
   "cell_type": "code",
   "execution_count": 8,
   "metadata": {},
   "outputs": [
    {
     "output_type": "execute_result",
     "data": {
      "text/plain": [
       "             Purchase Count Average Purchase Price Total Purchase Value\n",
       "SN                                                                     \n",
       "Lisosia93                 5                  $3.79               $18.96\n",
       "Idastidru52               4                  $3.86               $15.45\n",
       "Chamjask73                3                  $4.61               $13.83\n",
       "Iral74                    4                   $3.4               $13.62\n",
       "Iskadarya95               3                  $4.37                $13.1"
      ],
      "text/html": "<div>\n<style scoped>\n    .dataframe tbody tr th:only-of-type {\n        vertical-align: middle;\n    }\n\n    .dataframe tbody tr th {\n        vertical-align: top;\n    }\n\n    .dataframe thead th {\n        text-align: right;\n    }\n</style>\n<table border=\"1\" class=\"dataframe\">\n  <thead>\n    <tr style=\"text-align: right;\">\n      <th></th>\n      <th>Purchase Count</th>\n      <th>Average Purchase Price</th>\n      <th>Total Purchase Value</th>\n    </tr>\n    <tr>\n      <th>SN</th>\n      <th></th>\n      <th></th>\n      <th></th>\n    </tr>\n  </thead>\n  <tbody>\n    <tr>\n      <th>Lisosia93</th>\n      <td>5</td>\n      <td>$3.79</td>\n      <td>$18.96</td>\n    </tr>\n    <tr>\n      <th>Idastidru52</th>\n      <td>4</td>\n      <td>$3.86</td>\n      <td>$15.45</td>\n    </tr>\n    <tr>\n      <th>Chamjask73</th>\n      <td>3</td>\n      <td>$4.61</td>\n      <td>$13.83</td>\n    </tr>\n    <tr>\n      <th>Iral74</th>\n      <td>4</td>\n      <td>$3.4</td>\n      <td>$13.62</td>\n    </tr>\n    <tr>\n      <th>Iskadarya95</th>\n      <td>3</td>\n      <td>$4.37</td>\n      <td>$13.1</td>\n    </tr>\n  </tbody>\n</table>\n</div>"
     },
     "metadata": {},
     "execution_count": 8
    }
   ],
   "source": [
    "sn_df = purchase_df.groupby([\"SN\"])\n",
    "\n",
    "top_spenders_df = pd.DataFrame(sn_df[\"Purchase ID\"].count())\n",
    "top_spenders_df = top_spenders_df.rename(columns={\"Purchase ID\":\"Purchase Count\"})\n",
    "\n",
    "avg_price_by_sn = sn_df[\"Price\"].mean()\n",
    "top_spenders_df[\"Average Purchase Price\"] = round(avg_price_by_sn, 2)\n",
    "    \n",
    "top_spenders_df[\"Total Purchase Value\"] = sn_df[\"Price\"].sum()\n",
    "top_spenders_df = top_spenders_df.sort_values(by=['Total Purchase Value'], ascending=False)\n",
    "\n",
    "for currency_column in [\"Average Purchase Price\", \"Total Purchase Value\"]:\n",
    "    top_spenders_df[currency_column] = '$' + top_spenders_df[currency_column].round(2).astype(str)\n",
    "\n",
    "top_spenders_df.head()"
   ]
  },
  {
   "cell_type": "code",
   "execution_count": 9,
   "metadata": {},
   "outputs": [
    {
     "output_type": "execute_result",
     "data": {
      "text/plain": [
       "                                                      Purchase Count  \\\n",
       "Item ID Item Name                                                      \n",
       "92      Final Critic                                              13   \n",
       "178     Oathbreaker, Last Hope of the Breaking Storm              12   \n",
       "145     Fiery Glass Crusader                                       9   \n",
       "132     Persuasion                                                 9   \n",
       "108     Extraction, Quickblade Of Trembling Hands                  9   \n",
       "\n",
       "                                                                                             Item Price  \\\n",
       "Item ID Item Name                                                                                         \n",
       "92      Final Critic                                  ((92, Final Critic), [4.88, 4.19, 4.88, 4.88, ...   \n",
       "178     Oathbreaker, Last Hope of the Breaking Storm  ((178, Oathbreaker, Last Hope of the Breaking ...   \n",
       "145     Fiery Glass Crusader                          ((145, Fiery Glass Crusader), [4.58, 4.58, 4.5...   \n",
       "132     Persuasion                                    ((132, Persuasion), [3.19, 3.19, 3.19, 3.19, 3...   \n",
       "108     Extraction, Quickblade Of Trembling Hands     ((108, Extraction, Quickblade Of Trembling Han...   \n",
       "\n",
       "                                                     Total Purchase Value  \n",
       "Item ID Item Name                                                          \n",
       "92      Final Critic                                               $59.99  \n",
       "178     Oathbreaker, Last Hope of the Breaking Storm               $50.76  \n",
       "145     Fiery Glass Crusader                                       $41.22  \n",
       "132     Persuasion                                                 $28.99  \n",
       "108     Extraction, Quickblade Of Trembling Hands                  $31.77  "
      ],
      "text/html": "<div>\n<style scoped>\n    .dataframe tbody tr th:only-of-type {\n        vertical-align: middle;\n    }\n\n    .dataframe tbody tr th {\n        vertical-align: top;\n    }\n\n    .dataframe thead th {\n        text-align: right;\n    }\n</style>\n<table border=\"1\" class=\"dataframe\">\n  <thead>\n    <tr style=\"text-align: right;\">\n      <th></th>\n      <th></th>\n      <th>Purchase Count</th>\n      <th>Item Price</th>\n      <th>Total Purchase Value</th>\n    </tr>\n    <tr>\n      <th>Item ID</th>\n      <th>Item Name</th>\n      <th></th>\n      <th></th>\n      <th></th>\n    </tr>\n  </thead>\n  <tbody>\n    <tr>\n      <th>92</th>\n      <th>Final Critic</th>\n      <td>13</td>\n      <td>((92, Final Critic), [4.88, 4.19, 4.88, 4.88, ...</td>\n      <td>$59.99</td>\n    </tr>\n    <tr>\n      <th>178</th>\n      <th>Oathbreaker, Last Hope of the Breaking Storm</th>\n      <td>12</td>\n      <td>((178, Oathbreaker, Last Hope of the Breaking ...</td>\n      <td>$50.76</td>\n    </tr>\n    <tr>\n      <th>145</th>\n      <th>Fiery Glass Crusader</th>\n      <td>9</td>\n      <td>((145, Fiery Glass Crusader), [4.58, 4.58, 4.5...</td>\n      <td>$41.22</td>\n    </tr>\n    <tr>\n      <th>132</th>\n      <th>Persuasion</th>\n      <td>9</td>\n      <td>((132, Persuasion), [3.19, 3.19, 3.19, 3.19, 3...</td>\n      <td>$28.99</td>\n    </tr>\n    <tr>\n      <th>108</th>\n      <th>Extraction, Quickblade Of Trembling Hands</th>\n      <td>9</td>\n      <td>((108, Extraction, Quickblade Of Trembling Han...</td>\n      <td>$31.77</td>\n    </tr>\n  </tbody>\n</table>\n</div>"
     },
     "metadata": {},
     "execution_count": 9
    }
   ],
   "source": [
    "items_df = purchase_df.groupby([\"Item ID\", \"Item Name\"])\n",
    "\n",
    "pop_items_df = pd.DataFrame(items_df[\"Purchase ID\"].count())\n",
    "pop_items_df = pop_items_df.rename(columns={\"Purchase ID\":\"Purchase Count\"})\n",
    "\n",
    "pop_items_df[\"Item Price\"] = items_df[\"Price\"]\n",
    "    \n",
    "pop_items_df[\"Total Purchase Value\"] = '$' + items_df[\"Price\"].sum().round(2).astype(str)\n",
    "pop_items_df = pop_items_df.sort_values(by=['Purchase Count'], ascending=False)\n",
    "\n",
    "pop_items_df.head()"
   ]
  },
  {
   "cell_type": "code",
   "execution_count": 10,
   "metadata": {},
   "outputs": [
    {
     "output_type": "execute_result",
     "data": {
      "text/plain": [
       "                                           Purchase Count  \\\n",
       "Item ID Item Name                                           \n",
       "63      Stormfury Mace                                  2   \n",
       "29      Chaos, Ender of the End                         5   \n",
       "173     Stormfury Longsword                             2   \n",
       "38      The Void, Vengeance of Dark Magic               4   \n",
       "143     Frenzied Scimitar                               6   \n",
       "\n",
       "                                                                                  Item Price  \\\n",
       "Item ID Item Name                                                                              \n",
       "63      Stormfury Mace                                  ((63, Stormfury Mace), [4.99, 4.99])   \n",
       "29      Chaos, Ender of the End            ((29, Chaos, Ender of the End), [1.98, 1.98, 1...   \n",
       "173     Stormfury Longsword                       ((173, Stormfury Longsword), [4.93, 4.93])   \n",
       "38      The Void, Vengeance of Dark Magic  ((38, The Void, Vengeance of Dark Magic), [2.3...   \n",
       "143     Frenzied Scimitar                  ((143, Frenzied Scimitar), [1.56, 1.56, 1.56, ...   \n",
       "\n",
       "                                          Total Purchase Value  \n",
       "Item ID Item Name                                               \n",
       "63      Stormfury Mace                                   $9.98  \n",
       "29      Chaos, Ender of the End                           $9.9  \n",
       "173     Stormfury Longsword                              $9.86  \n",
       "38      The Void, Vengeance of Dark Magic                $9.48  \n",
       "143     Frenzied Scimitar                                $9.36  "
      ],
      "text/html": "<div>\n<style scoped>\n    .dataframe tbody tr th:only-of-type {\n        vertical-align: middle;\n    }\n\n    .dataframe tbody tr th {\n        vertical-align: top;\n    }\n\n    .dataframe thead th {\n        text-align: right;\n    }\n</style>\n<table border=\"1\" class=\"dataframe\">\n  <thead>\n    <tr style=\"text-align: right;\">\n      <th></th>\n      <th></th>\n      <th>Purchase Count</th>\n      <th>Item Price</th>\n      <th>Total Purchase Value</th>\n    </tr>\n    <tr>\n      <th>Item ID</th>\n      <th>Item Name</th>\n      <th></th>\n      <th></th>\n      <th></th>\n    </tr>\n  </thead>\n  <tbody>\n    <tr>\n      <th>63</th>\n      <th>Stormfury Mace</th>\n      <td>2</td>\n      <td>((63, Stormfury Mace), [4.99, 4.99])</td>\n      <td>$9.98</td>\n    </tr>\n    <tr>\n      <th>29</th>\n      <th>Chaos, Ender of the End</th>\n      <td>5</td>\n      <td>((29, Chaos, Ender of the End), [1.98, 1.98, 1...</td>\n      <td>$9.9</td>\n    </tr>\n    <tr>\n      <th>173</th>\n      <th>Stormfury Longsword</th>\n      <td>2</td>\n      <td>((173, Stormfury Longsword), [4.93, 4.93])</td>\n      <td>$9.86</td>\n    </tr>\n    <tr>\n      <th>38</th>\n      <th>The Void, Vengeance of Dark Magic</th>\n      <td>4</td>\n      <td>((38, The Void, Vengeance of Dark Magic), [2.3...</td>\n      <td>$9.48</td>\n    </tr>\n    <tr>\n      <th>143</th>\n      <th>Frenzied Scimitar</th>\n      <td>6</td>\n      <td>((143, Frenzied Scimitar), [1.56, 1.56, 1.56, ...</td>\n      <td>$9.36</td>\n    </tr>\n  </tbody>\n</table>\n</div>"
     },
     "metadata": {},
     "execution_count": 10
    }
   ],
   "source": [
    "most_prof_items_df = pop_items_df.sort_values(by=['Total Purchase Value'], ascending=False)\n",
    "most_prof_items_df.head()"
   ]
  },
  {
   "cell_type": "code",
   "execution_count": null,
   "metadata": {},
   "outputs": [],
   "source": []
  }
 ],
 "metadata": {
  "kernelspec": {
   "name": "Python 3.6.10 64-bit ('PythonData': conda)",
   "display_name": "Python 3.6.10 64-bit ('PythonData': conda)",
   "metadata": {
    "interpreter": {
     "hash": "22d38f9276d6842936794f8e5f3cca81c51c831b9a8433b9e4f637f625c1db6f"
    }
   }
  },
  "language_info": {
   "codemirror_mode": {
    "name": "ipython",
    "version": 3
   },
   "file_extension": ".py",
   "mimetype": "text/x-python",
   "name": "python",
   "nbconvert_exporter": "python",
   "pygments_lexer": "ipython3",
   "version": "3.6.10-final"
  }
 },
 "nbformat": 4,
 "nbformat_minor": 2
}